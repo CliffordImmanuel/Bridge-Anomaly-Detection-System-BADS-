{
 "cells": [
  {
   "cell_type": "code",
   "execution_count": 13,
   "id": "67021ea9",
   "metadata": {},
   "outputs": [],
   "source": [
    "import pandas as pd\n",
    "\n",
    "# overwrite the existing file\n",
    "def create_latex_file(bridge_name):\n",
    "    with open(f'./{bridge_name}/datalog-results-cctx.tex', 'w') as file:\n",
    "        file.write(\"\")\n",
    "\n",
    "def add_metrics_to_latex_file(bridge_name, rule, value):\n",
    "    if isinstance(value, int):\n",
    "        value = f'{value:,}'\n",
    "    with open(f'./{bridge_name}/datalog-results-cctx.tex', 'a') as file:\n",
    "        line = \"\\\\newcommand{\\\\\" + rule + \"}{\" + str(value) + \"~}\"\n",
    "        file.write(line + '\\n')\n",
    "\n",
    "create_latex_file('nomad-bridge')\n",
    "create_latex_file('ronin-bridge')"
   ]
  },
  {
   "cell_type": "markdown",
   "id": "e88d2710",
   "metadata": {},
   "source": [
    "## Comparison with CCTX data (Table XX)"
   ]
  },
  {
   "cell_type": "code",
   "execution_count": 14,
   "id": "efd91bf1",
   "metadata": {},
   "outputs": [],
   "source": [
    "def extractBridgeName(bridge_name):\n",
    "    bridge = bridge_name.split('-')[0]\n",
    "    return bridge[0].upper() + bridge[1:]\n",
    "\n",
    "def format_rule_name(rule_name):\n",
    "    rule_name = rule_name.replace(\"_\", \"\")\n",
    "    rule_name = rule_name.replace(\"20\", \"\")\n",
    "\n",
    "    return rule_name\n",
    "\n",
    "def extract_unmatched_metrics_for_latex(bridge_name, rule_name, rule_name_cctx, cctx_col_index, cctxs_df):\n",
    "    bridge = extractBridgeName(bridge_name)\n",
    "\n",
    "    try:\n",
    "        df = pd.read_csv(f\"../datalog/{bridge_name}/results/{rule_name}.csv\", header=None, sep='\\t')\n",
    "        print(\"Captured:\", len(df))\n",
    "        add_metrics_to_latex_file(bridge_name, format_rule_name(rule_name) + bridge + \"Captured\", len(df))\n",
    "\n",
    "        cctxs_deposits_hashes = cctxs_df.iloc[:, cctx_col_index].tolist()\n",
    "\n",
    "        df = df[~df.iloc[:, 1].isin(cctxs_deposits_hashes)]\n",
    "        print(f\"Unmatched (# of {rule_name} not in {rule_name_cctx}):\", len(df))\n",
    "        add_metrics_to_latex_file(bridge_name, format_rule_name(rule_name) + bridge + \"Unmatched\", len(df))\n",
    "    except Exception as e:\n",
    "        add_metrics_to_latex_file(bridge_name, format_rule_name(rule_name) + bridge + \"Captured\", 0)\n",
    "        print(\"Captured:\", 0)\n",
    "\n",
    "        print(f\"Unmatched (# of {rule_name} not in {rule_name_cctx}):\", 0)\n",
    "        add_metrics_to_latex_file(bridge_name, format_rule_name(rule_name) + bridge + \"Unmatched\", 0)\n"
   ]
  },
  {
   "cell_type": "markdown",
   "id": "82215ab4",
   "metadata": {},
   "source": [
    "### Deposits"
   ]
  },
  {
   "cell_type": "code",
   "execution_count": 15,
   "id": "255060f7",
   "metadata": {},
   "outputs": [
    {
     "name": "stdout",
     "output_type": "stream",
     "text": [
      "Extracting metrics for Nomad Bridge\n",
      "Number of CCTX_Deposit: 11404\n",
      "Captured: 7187\n",
      "Unmatched (# of SC_ValidNativeTokenDeposit not in CCTX_Deposit): 0\n",
      "Captured: 4223\n",
      "Unmatched (# of SC_ValidERC20TokenDeposit not in CCTX_Deposit): 6\n",
      "Captured: 11417\n",
      "Unmatched (# of TC_ValidERC20TokenDeposit not in CCTX_Deposit): 13\n",
      "\n",
      "Extracting metrics for Ronin Bridge\n",
      "Number of CCTX_Deposit: 43979\n",
      "Captured: 38462\n",
      "Unmatched (# of SC_ValidNativeTokenDeposit not in CCTX_Deposit): 10\n",
      "Captured: 5527\n",
      "Unmatched (# of SC_ValidERC20TokenDeposit not in CCTX_Deposit): 0\n",
      "Captured: 43990\n",
      "Unmatched (# of TC_ValidERC20TokenDeposit not in CCTX_Deposit): 11\n"
     ]
    }
   ],
   "source": [
    "print(\"Extracting metrics for Nomad Bridge\")\n",
    "cctxs_deposits = pd.read_csv(\"../datalog/nomad-bridge/results/CCTX_Deposit.csv\", header=None, sep='\\t')\n",
    "\n",
    "print(\"Number of CCTX_Deposit:\", len(cctxs_deposits))\n",
    "add_metrics_to_latex_file(\"nomad-bridge\", format_rule_name(\"CCTX_Deposit\") + extractBridgeName(\"nomad-bridge\") + \"Captured\", len(cctxs_deposits))\n",
    "add_metrics_to_latex_file(\"nomad-bridge\", format_rule_name(\"CCTX_Deposit\") + extractBridgeName(\"nomad-bridge\") + \"Unmatched\", \"--\")\n",
    "\n",
    "extract_unmatched_metrics_for_latex(\"nomad-bridge\", \"SC_ValidNativeTokenDeposit\", \"CCTX_Deposit\", 2, cctxs_deposits)\n",
    "extract_unmatched_metrics_for_latex(\"nomad-bridge\", \"SC_ValidERC20TokenDeposit\", \"CCTX_Deposit\", 2, cctxs_deposits)\n",
    "extract_unmatched_metrics_for_latex(\"nomad-bridge\", \"TC_ValidERC20TokenDeposit\", \"CCTX_Deposit\", 5, cctxs_deposits)\n",
    "\n",
    "print(\"\\nExtracting metrics for Ronin Bridge\")\n",
    "\n",
    "cctxs_deposits = pd.read_csv(\"../datalog/ronin-bridge/results/CCTX_Deposit.csv\", header=None, sep='\\t')\n",
    "\n",
    "print(\"Number of CCTX_Deposit:\", len(cctxs_deposits))\n",
    "add_metrics_to_latex_file(\"ronin-bridge\", format_rule_name(\"CCTX_Deposit\") + extractBridgeName(\"ronin-bridge\") + \"Captured\", len(cctxs_deposits))\n",
    "add_metrics_to_latex_file(\"ronin-bridge\", format_rule_name(\"CCTX_Deposit\") + extractBridgeName(\"ronin-bridge\") + \"Unmatched\", \"--\")\n",
    "\n",
    "extract_unmatched_metrics_for_latex(\"ronin-bridge\", \"SC_ValidNativeTokenDeposit\", \"CCTX_Deposit\", 2, cctxs_deposits)\n",
    "extract_unmatched_metrics_for_latex(\"ronin-bridge\", \"SC_ValidERC20TokenDeposit\", \"CCTX_Deposit\", 2, cctxs_deposits)\n",
    "extract_unmatched_metrics_for_latex(\"ronin-bridge\", \"TC_ValidERC20TokenDeposit\", \"CCTX_Deposit\", 5, cctxs_deposits)"
   ]
  },
  {
   "cell_type": "markdown",
   "id": "cb39508d",
   "metadata": {},
   "source": [
    "### CCTX_Withdrawal"
   ]
  },
  {
   "cell_type": "code",
   "execution_count": 16,
   "id": "898b3fa2",
   "metadata": {},
   "outputs": [
    {
     "name": "stdout",
     "output_type": "stream",
     "text": [
      "Extracting metrics for Nomad Bridge\n",
      "Number of CCTX_Withdrawal: 4482\n",
      "Captured: 4846\n",
      "Unmatched (# of TC_ValidERC20TokenWithdrawal not in CCTX_Withdrawal): 589\n",
      "Captured: 464\n",
      "Unmatched (# of TC_ValidNativeTokenWithdrawal not in CCTX_Withdrawal): 239\n",
      "Captured: 4869\n",
      "Unmatched (# of SC_ValidERC20TokenWithdrawal not in CCTX_Withdrawal): 387\n",
      "\n",
      "Extracting metrics for Ronin Bridge\n",
      "Number of CCTX_Withdrawal: 22830\n",
      "Captured: 35411\n",
      "Unmatched (# of TC_ValidERC20TokenWithdrawal not in CCTX_Withdrawal): 12581\n",
      "Captured: 0\n",
      "Unmatched (# of TC_ValidNativeTokenWithdrawal not in CCTX_Withdrawal): 0\n",
      "Captured: 25470\n",
      "Unmatched (# of SC_ValidERC20TokenWithdrawal not in CCTX_Withdrawal): 2640\n"
     ]
    }
   ],
   "source": [
    "print(\"Extracting metrics for Nomad Bridge\")\n",
    "cctxs_withdrawal = pd.read_csv(\"../datalog/nomad-bridge/results/CCTX_Withdrawal.csv\", header=None, sep='\\t')\n",
    "\n",
    "print(\"Number of CCTX_Withdrawal:\", len(cctxs_withdrawal))\n",
    "add_metrics_to_latex_file(\"nomad-bridge\", format_rule_name(\"CCTX_Withdrawal\") + extractBridgeName(\"nomad-bridge\") + \"Captured\", len(cctxs_withdrawal))\n",
    "add_metrics_to_latex_file(\"nomad-bridge\", format_rule_name(\"CCTX_Withdrawal\") + extractBridgeName(\"nomad-bridge\") + \"Unmatched\", \"--\")\n",
    "\n",
    "extract_unmatched_metrics_for_latex(\"nomad-bridge\", \"TC_ValidERC20TokenWithdrawal\", \"CCTX_Withdrawal\", 2, cctxs_withdrawal)\n",
    "extract_unmatched_metrics_for_latex(\"nomad-bridge\", \"TC_ValidNativeTokenWithdrawal\", \"CCTX_Withdrawal\", 2, cctxs_withdrawal)\n",
    "extract_unmatched_metrics_for_latex(\"nomad-bridge\", \"SC_ValidERC20TokenWithdrawal\", \"CCTX_Withdrawal\", 5, cctxs_withdrawal)\n",
    "\n",
    "print(\"\\nExtracting metrics for Ronin Bridge\")\n",
    "\n",
    "cctxs_withdrawal = pd.read_csv(\"../datalog/ronin-bridge/results/CCTX_Withdrawal.csv\", header=None, sep='\\t')\n",
    "\n",
    "print(\"Number of CCTX_Withdrawal:\", len(cctxs_withdrawal))\n",
    "add_metrics_to_latex_file(\"ronin-bridge\", format_rule_name(\"CCTX_Withdrawal\") + extractBridgeName(\"ronin-bridge\") + \"Captured\", len(cctxs_withdrawal))\n",
    "add_metrics_to_latex_file(\"ronin-bridge\", format_rule_name(\"CCTX_Withdrawal\") + extractBridgeName(\"ronin-bridge\") + \"Unmatched\", \"--\")\n",
    "\n",
    "extract_unmatched_metrics_for_latex(\"ronin-bridge\", \"TC_ValidERC20TokenWithdrawal\", \"CCTX_Withdrawal\", 2, cctxs_withdrawal)\n",
    "extract_unmatched_metrics_for_latex(\"ronin-bridge\", \"TC_ValidNativeTokenWithdrawal\", \"CCTX_Withdrawal\", 2, cctxs_withdrawal)\n",
    "extract_unmatched_metrics_for_latex(\"ronin-bridge\", \"SC_ValidERC20TokenWithdrawal\", \"CCTX_Withdrawal\", 5, cctxs_withdrawal)"
   ]
  },
  {
   "cell_type": "markdown",
   "id": "5a1ff6ae",
   "metadata": {},
   "source": [
    "Additional Data"
   ]
  },
  {
   "cell_type": "code",
   "execution_count": 17,
   "id": "0592f311",
   "metadata": {},
   "outputs": [],
   "source": [
    "def extract_additional_data_metrics_to_latex(bridge_name):\n",
    "    add_data = pd.read_csv(F\"../datalog/{bridge_name}/results/TC_WithdrawalsMatchWithAdditionalData.csv\", header=None, sep='\\t')\n",
    "    add_txs = add_data[2].to_list()\n",
    "\n",
    "    add_data_erc = pd.read_csv(F\"../datalog/{bridge_name}/results/TC_ValidERC20TokenWithdrawal.csv\", header=None, sep='\\t')\n",
    "    add_txs_erc = add_data_erc[1].to_list()\n",
    "\n",
    "    add_data_native = pd.read_csv(F\"../datalog/{bridge_name}/results/TC_ValidNativeTokenWithdrawal.csv\", header=None, sep='\\t')\n",
    "    add_txs_native = add_data_native[1].to_list()\n",
    "\n",
    "    cctxs_withdrawal = pd.read_csv(f\"../datalog/{bridge_name}/results/CCTX_Withdrawal.csv\", header=None, sep='\\t')\n",
    "    \n",
    "    unmatched_native = [tx for tx in add_txs_native if tx not in cctxs_withdrawal[2].to_list()]\n",
    "    unmatched_erc = [tx for tx in add_txs_erc if tx not in cctxs_withdrawal[2].to_list()]\n",
    "\n",
    "    withdrawals_native_tc_matched_by_additional_data = [tx for tx in unmatched_native if tx not in add_txs]\n",
    "    print(\"Events matched in additional data for Native Trasfers:\", len(withdrawals_native_tc_matched_by_additional_data))\n",
    "    add_metrics_to_latex_file(\"nomad-bridge\", format_rule_name(\"TC_ValidNativeTokenWithdrawalAddData\") + extractBridgeName(\"nomad-bridge\") + \"Unmatched\", len(withdrawals_native_tc_matched_by_additional_data))\n",
    "\n",
    "    withdrawals_native_tc_matched_by_additional_data = [tx for tx in unmatched_erc if tx not in add_txs]\n",
    "    print(\"Events matched in additional data for ERC Trasfers:\", len(withdrawals_native_tc_matched_by_additional_data))\n",
    "    add_metrics_to_latex_file(\"nomad-bridge\", format_rule_name(\"TC_ValidERC20TokenWithdrawalAddData\") + extractBridgeName(\"nomad-bridge\") + \"Unmatched\", len(withdrawals_native_tc_matched_by_additional_data))\n"
   ]
  },
  {
   "cell_type": "code",
   "execution_count": 18,
   "id": "58270086",
   "metadata": {},
   "outputs": [
    {
     "name": "stdout",
     "output_type": "stream",
     "text": [
      "Events matched in additional data for Native Trasfers: 238\n",
      "Events matched in additional data for ERC Trasfers: 491\n"
     ]
    }
   ],
   "source": [
    "extract_additional_data_metrics_to_latex(\"nomad-bridge\")"
   ]
  }
 ],
 "metadata": {
  "kernelspec": {
   "display_name": "Python 3 (ipykernel)",
   "language": "python",
   "name": "python3"
  },
  "language_info": {
   "codemirror_mode": {
    "name": "ipython",
    "version": 3
   },
   "file_extension": ".py",
   "mimetype": "text/x-python",
   "name": "python",
   "nbconvert_exporter": "python",
   "pygments_lexer": "ipython3",
   "version": "3.10.13"
  }
 },
 "nbformat": 4,
 "nbformat_minor": 5
}
