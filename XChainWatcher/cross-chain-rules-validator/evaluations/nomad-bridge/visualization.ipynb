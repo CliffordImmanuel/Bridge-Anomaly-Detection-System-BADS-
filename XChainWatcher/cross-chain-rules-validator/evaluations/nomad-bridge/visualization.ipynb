{
 "cells": [
  {
   "cell_type": "code",
   "execution_count": 8,
   "metadata": {},
   "outputs": [],
   "source": [
    "import pandas as pd\n",
    "import matplotlib.pyplot as plt\n",
    "\n",
    "# Load the CSV file into a DataFrame\n",
    "df = pd.read_csv('evaluation.csv', header=None, names=['transaction_hash', 'num_events', 'time'])"
   ]
  },
  {
   "cell_type": "code",
   "execution_count": 9,
   "metadata": {},
   "outputs": [],
   "source": [
    "# we can ignore the transactions with hundreds of events (col 2)\n",
    "df = df[df[\"num_events\"] < 100]"
   ]
  },
  {
   "cell_type": "code",
   "execution_count": 10,
   "metadata": {},
   "outputs": [
    {
     "name": "stdout",
     "output_type": "stream",
     "text": [
      "Number of rows with latency less than 1: 56652 (95.44122106539977%)\n",
      "Number of rows with latency more than 1: 2706 (4.558778934600222%)\n",
      "Max latency: 8.777141094207764\n"
     ]
    }
   ],
   "source": [
    "df_less_one_second = df[df[\"time\"] < 1]\n",
    "print(f\"Number of rows with latency less than 1: {len(df_less_one_second)} ({len(df_less_one_second)/len(df)*100}%)\")\n",
    "\n",
    "df_more_one_second = df[df[\"time\"] >= 1]\n",
    "print(f\"Number of rows with latency more than 1: {len(df_more_one_second)} ({len(df_more_one_second)/len(df)*100}%)\")\n",
    "\n",
    "max_latency = df[\"time\"].max()\n",
    "print(f\"Max latency: {max_latency}\")"
   ]
  },
  {
   "cell_type": "code",
   "execution_count": 11,
   "metadata": {},
   "outputs": [],
   "source": [
    "# Load the file \"transaction.facts\" with 9 columns\n",
    "df_transaction = pd.read_csv('../../../datalog/nomad-bridge/facts/transaction.facts', header=None, sep='\\t', names=[\"timestamp\", \"chain_id\", \"transaction_hash\", \"transaction_index\", \"from\", \"to\", \"value\", \"status\", \"fee\"], dtype={'col_6': str})\n",
    "df_additional_transaction = pd.read_csv('../../../datalog/nomad-bridge/facts/additional_transaction.facts', header=None, sep='\\t', names=[\"timestamp\", \"chain_id\", \"transaction_hash\", \"transaction_index\", \"from\", \"to\", \"value\", \"status\", \"fee\"], dtype={'col_6': str})\n",
    "\n",
    "# Append df_transaction and df_additional_transaction\n",
    "df_transaction = pd.concat([df_transaction, df_additional_transaction], ignore_index=True)\n",
    "\n",
    "df_transaction.to_csv('transaction.csv', index=False)"
   ]
  },
  {
   "cell_type": "code",
   "execution_count": 12,
   "metadata": {},
   "outputs": [],
   "source": [
    "merged_df = df.merge(df_transaction[['transaction_hash', 'value']], how=\"left\", on='transaction_hash')\n",
    "\n",
    "merged_df.fillna(0, inplace=True)"
   ]
  },
  {
   "cell_type": "code",
   "execution_count": 13,
   "metadata": {},
   "outputs": [],
   "source": [
    "merged_df['type'] = merged_df['value'].apply(lambda x: 'native' if int(x) > 0 else 'non-native')\n",
    "\n",
    "merged_df.to_csv('output.csv', index=False)"
   ]
  },
  {
   "cell_type": "code",
   "execution_count": 14,
   "metadata": {},
   "outputs": [
    {
     "name": "stdout",
     "output_type": "stream",
     "text": [
      "Number of rows with native token transfers: 7656 (12.898008693015264%)\n",
      "Number of rows with non-native token transfers: 51702 (87.10199130698474%)\n"
     ]
    }
   ],
   "source": [
    "df_native = merged_df[merged_df[\"type\"] == \"native\"]\n",
    "print(f\"Number of rows with native token transfers: {len(df_native)} ({len(df_native)/len(merged_df)*100}%)\")\n",
    "\n",
    "df_non_native = merged_df[merged_df[\"type\"] == \"non-native\"]\n",
    "print(f\"Number of rows with non-native token transfers: {len(df_non_native)} ({len(df_non_native)/len(merged_df)*100}%)\")"
   ]
  },
  {
   "cell_type": "code",
   "execution_count": 23,
   "metadata": {},
   "outputs": [
    {
     "name": "stdout",
     "output_type": "stream",
     "text": [
      "Number of data points: 51702\n",
      "Max latency of the non-native token transfers: 5.83479905128479\n",
      "Min latency of the non-native token transfers: 3.814697265625e-06\n",
      "Average latency of the non-native token transfers: 0.2567848861067628\n",
      "Median latency of the non-native token transfers: 0.194872498512268\n",
      "Standard deviation of the non-native token transfers: 0.2783600713501419\n"
     ]
    }
   ],
   "source": [
    "datapoints = len(df_non_native)\n",
    "print(f\"Number of data points: {datapoints}\")\n",
    "\n",
    "# max latency of the non-native token transfers\n",
    "max_latency_non_native = df_non_native[\"time\"].max()\n",
    "print(f\"Max latency of the non-native token transfers: {max_latency_non_native}\")\n",
    "\n",
    "# min latency of the non-native token transfers\n",
    "min_latency_non_native = df_non_native[\"time\"].min()\n",
    "print(f\"Min latency of the non-native token transfers: {min_latency_non_native}\")\n",
    "\n",
    "# average latency of the non-native token transfers\n",
    "average_latency_non_native = df_non_native[\"time\"].mean()\n",
    "print(f\"Average latency of the non-native token transfers: {average_latency_non_native}\")\n",
    "\n",
    "# median latency of the non-native token transfers\n",
    "average_latency_non_native = df_non_native[\"time\"].median()\n",
    "print(f\"Median latency of the non-native token transfers: {average_latency_non_native}\")\n",
    "\n",
    "# standard deviation of the non-native token transfers\n",
    "average_latency_non_native = df_non_native[\"time\"].std()\n",
    "print(f\"Standard deviation of the non-native token transfers: {average_latency_non_native}\")"
   ]
  },
  {
   "cell_type": "code",
   "execution_count": 24,
   "metadata": {},
   "outputs": [
    {
     "data": {
      "image/png": "[encoded data removed]",
      "text/plain": [
       "<Figure size 640x480 with 1 Axes>"
      ]
     },
     "metadata": {},
     "output_type": "display_data"
    }
   ],
   "source": [
    "# plot the latency of the non-native token transfers\n",
    "plt.hist(df_non_native[\"time\"], bins=100)\n",
    "plt.xlabel('Latency (seconds)')\n",
    "plt.ylabel('Frequency')\n",
    "#log scale in x\n",
    "plt.xscale('log')\n",
    "plt.title('Latency of non-native token transfers')\n",
    "plt.show()"
   ]
  },
  {
   "cell_type": "markdown",
   "metadata": {},
   "source": [
    "For the native tokens, we can estimate if they contained internal transactions or not"
   ]
  },
  {
   "cell_type": "code",
   "execution_count": 25,
   "metadata": {},
   "outputs": [
    {
     "name": "stdout",
     "output_type": "stream",
     "text": [
      "Number of data points: 7656\n",
      "Max latency of the transaction: 8.777141094207764\n",
      "Min latency of the transaction: 0.1591930389404297\n",
      "Average latency of the transaction: 0.8901115618840779\n",
      "Median latency of the transaction: 0.7759168148040771\n",
      "Standard deviation of the transaction: 0.4618265400213075\n"
     ]
    }
   ],
   "source": [
    "datapoints = len(df_native)\n",
    "print(f\"Number of data points: {datapoints}\")\n",
    "\n",
    "max_latency = df_native[\"time\"].max()\n",
    "print(f\"Max latency of the transaction: {max_latency}\")\n",
    "\n",
    "min_latency = df_native[\"time\"].min()\n",
    "print(f\"Min latency of the transaction: {min_latency}\")\n",
    "\n",
    "average_latency = df_native[\"time\"].mean()\n",
    "print(f\"Average latency of the transaction: {average_latency}\")\n",
    "\n",
    "median_latency = df_native[\"time\"].median()\n",
    "print(f\"Median latency of the transaction: {median_latency}\")\n",
    "\n",
    "std_latency = df_native[\"time\"].std()\n",
    "print(f\"Standard deviation of the transaction: {std_latency}\")"
   ]
  },
  {
   "cell_type": "code",
   "execution_count": 26,
   "metadata": {},
   "outputs": [
    {
     "data": {
      "image/png": "[encoded data removed]",
      "text/plain": [
       "<Figure size 640x480 with 1 Axes>"
      ]
     },
     "metadata": {},
     "output_type": "display_data"
    }
   ],
   "source": [
    "plt.hist(df_native[\"time\"], bins=100)\n",
    "plt.xlabel('Latency (seconds)')\n",
    "plt.ylabel('Frequency')\n",
    "plt.xscale('log')\n",
    "plt.title('Latency')\n",
    "plt.show()"
   ]
  },
  {
   "cell_type": "code",
   "execution_count": 27,
   "metadata": {},
   "outputs": [
    {
     "name": "stdout",
     "output_type": "stream",
     "text": [
      "Number of rows with latency greater than 1: 1725 (22.531347962382444%)\n",
      "Number of rows with latency greater than 10: 0 (0.0%)\n",
      "Number of rows with latency greater than 15: 0 (0.0%)\n"
     ]
    }
   ],
   "source": [
    "# count how many of df_native have time > 1 and the percentage\n",
    "df_native_time_gt_1 = df_native[df_native[\"time\"] > 1]\n",
    "print(f\"Number of rows with latency greater than 1: {len(df_native_time_gt_1)} ({len(df_native_time_gt_1)/len(df_native)*100}%)\")\n",
    "\n",
    "# count how many of df_native have time > 10 and the percentage\n",
    "df_native_time_gt_10 = df_native[df_native[\"time\"] > 10]\n",
    "print(f\"Number of rows with latency greater than 10: {len(df_native_time_gt_10)} ({len(df_native_time_gt_10)/len(df_native)*100}%)\")\n",
    "\n",
    "# count how many of df_native have time > 10 and the percentage\n",
    "df_native_time_gt_15 = df_native[df_native[\"time\"] > 15]\n",
    "print(f\"Number of rows with latency greater than 15: {len(df_native_time_gt_15)} ({len(df_native_time_gt_15)/len(df_native)*100}%)\")"
   ]
  }
 ],
 "metadata": {
  "kernelspec": {
   "display_name": "xchainwatcherenv",
   "language": "python",
   "name": "python3"
  },
  "language_info": {
   "codemirror_mode": {
    "name": "ipython",
    "version": 3
   },
   "file_extension": ".py",
   "mimetype": "text/x-python",
   "name": "python",
   "nbconvert_exporter": "python",
   "pygments_lexer": "ipython3",
   "version": "3.11.5"
  }
 },
 "nbformat": 4,
 "nbformat_minor": 2
}
