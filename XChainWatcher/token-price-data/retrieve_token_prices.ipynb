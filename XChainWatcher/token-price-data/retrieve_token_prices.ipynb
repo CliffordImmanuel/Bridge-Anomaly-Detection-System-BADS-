{
 "cells": [
  {
   "cell_type": "code",
   "execution_count": 1,
   "metadata": {},
   "outputs": [],
   "source": [
    "import os\n",
    "import pandas as pd\n",
    "\n",
    "# Convert scientific notation to extended format\n",
    "def convert_scientific_notation(value):\n",
    "    if isinstance(value, str) and 'E' in value:\n",
    "        value = value.replace(',', '.')  # Replace comma with period\n",
    "        return f'{int(float(value))}'\n",
    "    return value\n",
    "\n",
    "def process_file(file_path, output_path):\n",
    "    # Load the CSV file\n",
    "    df = pd.read_csv(file_path, delimiter=';')\n",
    "\n",
    "    df = df.map(convert_scientific_notation)    \n",
    "\n",
    "    df['timestamp'] = df['timeOpen'].astype(int)\n",
    "\n",
    "    df['price'] = df['priceClose'].str.replace(',', '.').astype(float)\n",
    "    df['date'] = pd.to_datetime(df['timestamp'], unit='ms').dt.strftime('%Y-%m-%d')\n",
    "    \n",
    "    # Select and reorder columns\n",
    "    df = df[['timestamp', 'price', 'date']]\n",
    "    \n",
    "    # Save the transformed CSV file\n",
    "    df.to_csv(output_path, index=False)\n",
    "\n",
    "def main(bridge_name):\n",
    "    input_directory = f'./{bridge_name}/bitget/'\n",
    "    output_directory = f'./{bridge_name}/data/'\n",
    "\n",
    "    os.makedirs(output_directory, exist_ok=True)\n",
    "\n",
    "    for filename in os.listdir(input_directory):\n",
    "        if filename.endswith('.csv'):\n",
    "            input_file_path = os.path.join(input_directory, filename)\n",
    "\n",
    "            base_name = '-'.join(filename.split('-')[:-1])\n",
    "            output_file_name = f\"{base_name}_historical_data.csv\"\n",
    "            output_file_path = os.path.join(output_directory, output_file_name)\n",
    "            \n",
    "            process_file(input_file_path, output_file_path)\n",
    "\n",
    "    print('Processing complete.')\n"
   ]
  },
  {
   "cell_type": "code",
   "execution_count": 5,
   "metadata": {},
   "outputs": [
    {
     "name": "stdout",
     "output_type": "stream",
     "text": [
      "Processing complete.\n"
     ]
    }
   ],
   "source": [
    "main(\"ronin-bridge\")"
   ]
  },
  {
   "cell_type": "code",
   "execution_count": 2,
   "metadata": {},
   "outputs": [
    {
     "name": "stdout",
     "output_type": "stream",
     "text": [
      "Processing complete.\n"
     ]
    }
   ],
   "source": [
    "main(\"nomad-bridge\")"
   ]
  }
 ],
 "metadata": {
  "kernelspec": {
   "display_name": "Python 3",
   "language": "python",
   "name": "python3"
  },
  "language_info": {
   "codemirror_mode": {
    "name": "ipython",
    "version": 3
   },
   "file_extension": ".py",
   "mimetype": "text/x-python",
   "name": "python",
   "nbconvert_exporter": "python",
   "pygments_lexer": "ipython3",
   "version": "3.11.5"
  }
 },
 "nbformat": 4,
 "nbformat_minor": 2
}
