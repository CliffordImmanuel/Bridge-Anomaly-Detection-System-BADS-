{
 "cells": [
  {
   "cell_type": "markdown",
   "metadata": {},
   "source": [
    "This playbook extracts the data from each blockchain of each bridge and stores it in the \"/data\" directory."
   ]
  },
  {
   "cell_type": "markdown",
   "metadata": {
    "vscode": {
     "languageId": "plaintext"
    }
   },
   "source": [
    "## Load Tx Receipts\n",
    "### Ronin Bridge"
   ]
  },
  {
   "cell_type": "code",
   "execution_count": 1,
   "metadata": {},
   "outputs": [
    {
     "ename": "FileNotFoundError",
     "evalue": "[Errno 2] No such file or directory: '../data/ronin-bridge/tx_receipts/ronin_selected_interval.json'",
     "output_type": "error",
     "traceback": [
      "\u001b[0;31m---------------------------------------------------------------------------\u001b[0m",
      "\u001b[0;31mFileNotFoundError\u001b[0m                         Traceback (most recent call last)",
      "Cell \u001b[0;32mIn[1], line 12\u001b[0m\n\u001b[1;32m      9\u001b[0m ethereum_txs_additional_after \u001b[38;5;241m=\u001b[39m \u001b[38;5;124m\"\u001b[39m\u001b[38;5;124m./ronin-bridge/ethereum/data/logs-28Apr-today/withdrawal_receipts.json\u001b[39m\u001b[38;5;124m\"\u001b[39m\n\u001b[1;32m     11\u001b[0m destination_path \u001b[38;5;241m=\u001b[39m \u001b[38;5;124m\"\u001b[39m\u001b[38;5;124m../data/ronin-bridge/tx_receipts/ronin_selected_interval.json\u001b[39m\u001b[38;5;124m\"\u001b[39m\n\u001b[0;32m---> 12\u001b[0m \u001b[38;5;28;01mwith\u001b[39;00m \u001b[38;5;28;43mopen\u001b[39;49m\u001b[43m(\u001b[49m\u001b[43mdestination_path\u001b[49m\u001b[43m,\u001b[49m\u001b[43m \u001b[49m\u001b[38;5;124;43m'\u001b[39;49m\u001b[38;5;124;43mw\u001b[39;49m\u001b[38;5;124;43m'\u001b[39;49m\u001b[43m)\u001b[49m \u001b[38;5;28;01mas\u001b[39;00m outfile:\n\u001b[1;32m     13\u001b[0m     \u001b[38;5;28;01mwith\u001b[39;00m \u001b[38;5;28mopen\u001b[39m(ronin_txs_interval, \u001b[38;5;124m'\u001b[39m\u001b[38;5;124mr\u001b[39m\u001b[38;5;124m'\u001b[39m) \u001b[38;5;28;01mas\u001b[39;00m infile:\n\u001b[1;32m     14\u001b[0m         json1 \u001b[38;5;241m=\u001b[39m json\u001b[38;5;241m.\u001b[39mload(infile)\n",
      "File \u001b[0;32m~/Projects/XChainWatcher/xchainwatcherenv/lib/python3.11/site-packages/IPython/core/interactiveshell.py:324\u001b[0m, in \u001b[0;36m_modified_open\u001b[0;34m(file, *args, **kwargs)\u001b[0m\n\u001b[1;32m    317\u001b[0m \u001b[38;5;28;01mif\u001b[39;00m file \u001b[38;5;129;01min\u001b[39;00m {\u001b[38;5;241m0\u001b[39m, \u001b[38;5;241m1\u001b[39m, \u001b[38;5;241m2\u001b[39m}:\n\u001b[1;32m    318\u001b[0m     \u001b[38;5;28;01mraise\u001b[39;00m \u001b[38;5;167;01mValueError\u001b[39;00m(\n\u001b[1;32m    319\u001b[0m         \u001b[38;5;124mf\u001b[39m\u001b[38;5;124m\"\u001b[39m\u001b[38;5;124mIPython won\u001b[39m\u001b[38;5;124m'\u001b[39m\u001b[38;5;124mt let you open fd=\u001b[39m\u001b[38;5;132;01m{\u001b[39;00mfile\u001b[38;5;132;01m}\u001b[39;00m\u001b[38;5;124m by default \u001b[39m\u001b[38;5;124m\"\u001b[39m\n\u001b[1;32m    320\u001b[0m         \u001b[38;5;124m\"\u001b[39m\u001b[38;5;124mas it is likely to crash IPython. If you know what you are doing, \u001b[39m\u001b[38;5;124m\"\u001b[39m\n\u001b[1;32m    321\u001b[0m         \u001b[38;5;124m\"\u001b[39m\u001b[38;5;124myou can use builtins\u001b[39m\u001b[38;5;124m'\u001b[39m\u001b[38;5;124m open.\u001b[39m\u001b[38;5;124m\"\u001b[39m\n\u001b[1;32m    322\u001b[0m     )\n\u001b[0;32m--> 324\u001b[0m \u001b[38;5;28;01mreturn\u001b[39;00m \u001b[43mio_open\u001b[49m\u001b[43m(\u001b[49m\u001b[43mfile\u001b[49m\u001b[43m,\u001b[49m\u001b[43m \u001b[49m\u001b[38;5;241;43m*\u001b[39;49m\u001b[43margs\u001b[49m\u001b[43m,\u001b[49m\u001b[43m \u001b[49m\u001b[38;5;241;43m*\u001b[39;49m\u001b[38;5;241;43m*\u001b[39;49m\u001b[43mkwargs\u001b[49m\u001b[43m)\u001b[49m\n",
      "\u001b[0;31mFileNotFoundError\u001b[0m: [Errno 2] No such file or directory: '../data/ronin-bridge/tx_receipts/ronin_selected_interval.json'"
     ]
    }
   ],
   "source": [
    "import json\n",
    "\n",
    "ronin_txs_interval = \"./ronin-bridge/ronin/data/logs-01Jan-28Apr-deps/tx_receipts.json\"\n",
    "ronin_txs_interval_2 = \"./ronin-bridge/ronin/data/logs-01Jan-28Apr-withds/tx_receipts.json\"\n",
    "ronin_txs_additional_before = \"./ronin-bridge/ronin/data/logs-13Sep-31Dec/tx_receipts.json\"\n",
    "\n",
    "ethereum_txs_interval = \"./ronin-bridge/ethereum/merged-data/logs-01Jan-28Apr/unique_tx_receipts.json\"\n",
    "ethereum_txs_additional_before = \"./ronin-bridge/ethereum/data-bd/logs-13Sep-31Dec/deposit_receipts.json\"\n",
    "ethereum_txs_additional_after = \"./ronin-bridge/ethereum/merged-data/logs-28Apr-today/unique_tx_receipts.json\"\n",
    "\n",
    "destination_path = \"../data/ronin-bridge/tx_receipts/ronin_selected_interval.json\"\n",
    "with open(destination_path, 'w') as outfile:\n",
    "    with open(ronin_txs_interval, 'r') as infile:\n",
    "        json1 = json.load(infile)\n",
    "    with open(ronin_txs_interval_2, 'r') as infile:\n",
    "        json2 = json.load(infile)\n",
    "\n",
    "    json1.extend(json2)\n",
    "\n",
    "    json.dump(json1, outfile, indent=4)\n",
    "\n",
    "destination_path = \"../data/ronin-bridge/tx_receipts/ronin_before_interval.json\"\n",
    "with open(destination_path, 'w') as outfile:\n",
    "    with open(ronin_txs_additional_before, 'r') as infile:\n",
    "        outfile.write(infile.read())\n",
    "\n",
    "destination_path = \"../data/ronin-bridge/tx_receipts/ethereum_selected_interval.json\"\n",
    "with open(destination_path, 'w') as outfile:\n",
    "    with open(ethereum_txs_interval, 'r') as infile:\n",
    "        outfile.write(infile.read())\n",
    "\n",
    "destination_path = \"../data/ronin-bridge/tx_receipts/ethereum_before_interval.json\"\n",
    "with open(destination_path, 'w') as outfile:\n",
    "    with open(ethereum_txs_additional_before, 'r') as infile:\n",
    "        outfile.write(infile.read())\n",
    "\n",
    "destination_path = \"../data/ronin-bridge/tx_receipts/ethereum_after_interval.json\"\n",
    "with open(destination_path, 'w') as outfile:\n",
    "    with open(ethereum_txs_additional_after, 'r') as infile:\n",
    "        outfile.write(infile.read())"
   ]
  },
  {
   "cell_type": "markdown",
   "metadata": {},
   "source": [
    "### Nomad Bridge"
   ]
  },
  {
   "cell_type": "code",
<<<<<<< Updated upstream
   "execution_count": 2,
=======
   "execution_count": 19,
>>>>>>> Stashed changes
   "metadata": {},
   "outputs": [
    {
     "ename": "FileNotFoundError",
     "evalue": "[Errno 2] No such file or directory: '../data/nomad-bridge/tx_receipts/moonbeam_selected_interval.json'",
     "output_type": "error",
     "traceback": [
      "\u001b[0;31m---------------------------------------------------------------------------\u001b[0m",
      "\u001b[0;31mFileNotFoundError\u001b[0m                         Traceback (most recent call last)",
      "Cell \u001b[0;32mIn[2], line 11\u001b[0m\n\u001b[1;32m      7\u001b[0m ethereum_txs_additional_after \u001b[38;5;241m=\u001b[39m \u001b[38;5;124m\"\u001b[39m\u001b[38;5;124m./nomad-bridge/ethereum/data/logs-14Dec-today/unique_tx_receipts.json\u001b[39m\u001b[38;5;124m\"\u001b[39m\n\u001b[1;32m      9\u001b[0m destination_path \u001b[38;5;241m=\u001b[39m \u001b[38;5;124m\"\u001b[39m\u001b[38;5;124m../data/nomad-bridge/tx_receipts/moonbeam_selected_interval.json\u001b[39m\u001b[38;5;124m\"\u001b[39m\n\u001b[0;32m---> 11\u001b[0m \u001b[38;5;28;01mwith\u001b[39;00m \u001b[38;5;28;43mopen\u001b[39;49m\u001b[43m(\u001b[49m\u001b[43mdestination_path\u001b[49m\u001b[43m,\u001b[49m\u001b[43m \u001b[49m\u001b[38;5;124;43m'\u001b[39;49m\u001b[38;5;124;43mw\u001b[39;49m\u001b[38;5;124;43m'\u001b[39;49m\u001b[43m)\u001b[49m \u001b[38;5;28;01mas\u001b[39;00m outfile:\n\u001b[1;32m     12\u001b[0m     \u001b[38;5;28;01mwith\u001b[39;00m \u001b[38;5;28mopen\u001b[39m(moonbeam_txs_interval, \u001b[38;5;124m'\u001b[39m\u001b[38;5;124mr\u001b[39m\u001b[38;5;124m'\u001b[39m) \u001b[38;5;28;01mas\u001b[39;00m infile:\n\u001b[1;32m     13\u001b[0m         json1 \u001b[38;5;241m=\u001b[39m json\u001b[38;5;241m.\u001b[39mload(infile)\n",
      "File \u001b[0;32m~/Projects/XChainWatcher/xchainwatcherenv/lib/python3.11/site-packages/IPython/core/interactiveshell.py:324\u001b[0m, in \u001b[0;36m_modified_open\u001b[0;34m(file, *args, **kwargs)\u001b[0m\n\u001b[1;32m    317\u001b[0m \u001b[38;5;28;01mif\u001b[39;00m file \u001b[38;5;129;01min\u001b[39;00m {\u001b[38;5;241m0\u001b[39m, \u001b[38;5;241m1\u001b[39m, \u001b[38;5;241m2\u001b[39m}:\n\u001b[1;32m    318\u001b[0m     \u001b[38;5;28;01mraise\u001b[39;00m \u001b[38;5;167;01mValueError\u001b[39;00m(\n\u001b[1;32m    319\u001b[0m         \u001b[38;5;124mf\u001b[39m\u001b[38;5;124m\"\u001b[39m\u001b[38;5;124mIPython won\u001b[39m\u001b[38;5;124m'\u001b[39m\u001b[38;5;124mt let you open fd=\u001b[39m\u001b[38;5;132;01m{\u001b[39;00mfile\u001b[38;5;132;01m}\u001b[39;00m\u001b[38;5;124m by default \u001b[39m\u001b[38;5;124m\"\u001b[39m\n\u001b[1;32m    320\u001b[0m         \u001b[38;5;124m\"\u001b[39m\u001b[38;5;124mas it is likely to crash IPython. If you know what you are doing, \u001b[39m\u001b[38;5;124m\"\u001b[39m\n\u001b[1;32m    321\u001b[0m         \u001b[38;5;124m\"\u001b[39m\u001b[38;5;124myou can use builtins\u001b[39m\u001b[38;5;124m'\u001b[39m\u001b[38;5;124m open.\u001b[39m\u001b[38;5;124m\"\u001b[39m\n\u001b[1;32m    322\u001b[0m     )\n\u001b[0;32m--> 324\u001b[0m \u001b[38;5;28;01mreturn\u001b[39;00m \u001b[43mio_open\u001b[49m\u001b[43m(\u001b[49m\u001b[43mfile\u001b[49m\u001b[43m,\u001b[49m\u001b[43m \u001b[49m\u001b[38;5;241;43m*\u001b[39;49m\u001b[43margs\u001b[49m\u001b[43m,\u001b[49m\u001b[43m \u001b[49m\u001b[38;5;241;43m*\u001b[39;49m\u001b[38;5;241;43m*\u001b[39;49m\u001b[43mkwargs\u001b[49m\u001b[43m)\u001b[49m\n",
      "\u001b[0;31mFileNotFoundError\u001b[0m: [Errno 2] No such file or directory: '../data/nomad-bridge/tx_receipts/moonbeam_selected_interval.json'"
     ]
    }
   ],
   "source": [
    "import json\n",
    "\n",
    "moonbeam_txs_interval = \"./nomad-bridge/moonbeam/data/logs-11Jan-14Dec-deps/unique_tx_receipts.json\"\n",
    "moonbeam_txs_interval_2 = \"./nomad-bridge/moonbeam/data/logs-11Jan-14Dec-withds/unique_tx_receipts.json\"\n",
    "\n",
    "ethereum_txs_interval = \"./nomad-bridge/ethereum/data/logs-11Jan-14Dec/unique_tx_receipts-new-2.json\"\n",
    "ethereum_txs_additional_after = \"./nomad-bridge/ethereum/data/logs-14Dec-today/unique_tx_receipts.json\"\n",
    "\n",
    "destination_path = \"../data/nomad-bridge/tx_receipts/moonbeam_selected_interval.json\"\n",
    "\n",
    "with open(destination_path, 'w') as outfile:\n",
    "    with open(moonbeam_txs_interval, 'r') as infile:\n",
    "        json1 = json.load(infile)\n",
    "    with open(moonbeam_txs_interval_2, 'r') as infile:\n",
    "        json2 = json.load(infile)\n",
    "\n",
    "    json1.extend(json2)\n",
    "\n",
    "    json.dump(json1, outfile, indent=4)\n",
    "\n",
    "destination_path = \"../data/nomad-bridge/tx_receipts/ethereum_selected_interval.json\"\n",
    "with open(destination_path, 'w') as outfile:\n",
    "    with open(ethereum_txs_interval, 'r') as infile:\n",
    "        outfile.write(infile.read())\n",
    "\n",
    "destination_path = \"../data/nomad-bridge/tx_receipts/ethereum_after_interval.json\"\n",
    "with open(destination_path, 'w') as outfile:\n",
    "    with open(ethereum_txs_additional_after, 'r') as infile:\n",
    "        outfile.write(infile.read())"
   ]
  },
  {
   "cell_type": "markdown",
   "metadata": {},
   "source": [
    "### Confirm all Tx Numbers"
   ]
  },
  {
   "cell_type": "markdown",
   "metadata": {},
   "source": [
    "#### Ronin Bridge"
   ]
  },
  {
   "cell_type": "code",
<<<<<<< Updated upstream
   "execution_count": null,
=======
   "execution_count": 2,
>>>>>>> Stashed changes
   "metadata": {},
   "outputs": [
    {
     "name": "stdout",
     "output_type": "stream",
     "text": [
      "../data/ronin-bridge/tx_receipts/ronin_selected_interval.json 75102\n",
      "../data/ronin-bridge/tx_receipts/ronin_before_interval.json 151323\n",
      "../data/ronin-bridge/tx_receipts/ethereum_selected_interval.json 72820\n",
      "../data/ronin-bridge/tx_receipts/ethereum_before_interval.json 459299\n",
      "../data/ronin-bridge/tx_receipts/ethereum_after_interval.json 58037\n"
     ]
    }
   ],
   "source": [
    "import json\n",
    "\n",
    "destination_path = \"../data/ronin-bridge/tx_receipts/ronin_selected_interval.json\"\n",
    "with open(destination_path, 'r') as infile:\n",
    "    json_data = json.load(infile)\n",
    "    print(destination_path, len(json_data))\n",
    "\n",
    "destination_path = \"../data/ronin-bridge/tx_receipts/ronin_before_interval.json\"\n",
    "with open(destination_path, 'r') as infile:\n",
    "    json_data = json.load(infile)\n",
    "    print(destination_path, len(json_data))\n",
    "\n",
    "destination_path = \"../data/ronin-bridge/tx_receipts/ethereum_selected_interval.json\"\n",
    "with open(destination_path, 'r') as infile:\n",
    "    json_data = json.load(infile)\n",
    "    print(destination_path, len(json_data))\n",
    "\n",
    "destination_path = \"../data/ronin-bridge/tx_receipts/ethereum_before_interval.json\"\n",
    "with open(destination_path, 'r') as infile:\n",
    "    json_data = json.load(infile)\n",
    "    print(destination_path, len(json_data))\n",
    "    \n",
    "destination_path = \"../data/ronin-bridge/tx_receipts/ethereum_after_interval.json\"\n",
    "with open(destination_path, 'r') as infile:\n",
    "    json_data = json.load(infile)\n",
    "    print(destination_path, len(json_data))"
   ]
  },
  {
   "cell_type": "markdown",
   "metadata": {},
   "source": [
    "#### Nomad Bridge"
   ]
  },
  {
   "cell_type": "code",
<<<<<<< Updated upstream
   "execution_count": null,
=======
   "execution_count": 20,
>>>>>>> Stashed changes
   "metadata": {},
   "outputs": [
    {
     "name": "stdout",
     "output_type": "stream",
     "text": [
      "../data/nomad-bridge/tx_receipts/moonbeam_selected_interval.json 16780\n",
      "../data/nomad-bridge/tx_receipts/ethereum_selected_interval.json 35967\n",
      "../data/nomad-bridge/tx_receipts/ethereum_after_interval.json 1779\n"
     ]
    }
   ],
   "source": [
    "import json\n",
    "\n",
    "destination_path = \"../data/nomad-bridge/tx_receipts/moonbeam_selected_interval.json\"\n",
    "with open(destination_path, 'r') as infile:\n",
    "    json_data = json.load(infile)\n",
    "    print(destination_path, len(json_data))\n",
    "\n",
    "destination_path = \"../data/nomad-bridge/tx_receipts/ethereum_selected_interval.json\"\n",
    "with open(destination_path, 'r') as infile:\n",
    "    json_data = json.load(infile)\n",
    "    print(destination_path, len(json_data))\n",
    "\n",
    "destination_path = \"../data/nomad-bridge/tx_receipts/ethereum_after_interval.json\"\n",
    "with open(destination_path, 'r') as infile:\n",
    "    json_data = json.load(infile)\n",
    "    print(destination_path, len(json_data))"
   ]
  },
  {
   "cell_type": "code",
   "execution_count": null,
   "metadata": {},
   "outputs": [],
   "source": [
    "## Load Block Data\n",
    "### Ronin Bridge"
   ]
  },
  {
   "cell_type": "code",
<<<<<<< Updated upstream
   "execution_count": null,
=======
   "execution_count": 3,
>>>>>>> Stashed changes
   "metadata": {},
   "outputs": [],
   "source": [
    "import pandas as pd\n",
    "\n",
    "blocks_ronin_1 = \"./ronin-bridge/ronin/data/logs-01Jan-28Apr-deps/blocks.csv\"\n",
    "blocks_ronin_2 = \"./ronin-bridge/ronin/data/logs-01Jan-28Apr-withds/blocks.csv\"\n",
    "blocks_ronin_3 = \"./ronin-bridge/ronin/data/logs-13Sep-31Dec/blocks.csv\"\n",
    "\n",
    "df_blocks_ronin_1 = pd.read_csv(blocks_ronin_1)\n",
    "df_blocks_ronin_2 = pd.read_csv(blocks_ronin_2)\n",
    "df_blocks_ronin_3 = pd.read_csv(blocks_ronin_3)\n",
    "\n",
    "df_blocks_ronin = pd.concat([df_blocks_ronin_1, df_blocks_ronin_2, df_blocks_ronin_3])\n",
    "\n",
    "destination_path = \"../data/ronin-bridge/blocks/ronin.csv\"\n",
    "df_blocks_ronin.to_csv(destination_path)\n",
    "\n",
    "\n",
    "blocks_ethereum_1 = \"./ronin-bridge/ethereum/data-bd/logs-01Jan-28Apr/blocks.csv\"\n",
    "blocks_ethereum_2 = \"./ronin-bridge/ethereum/data-bd/logs-13Sep-31Dec/blocks.csv\"\n",
    "blocks_ethereum_3 = \"./ronin-bridge/ethereum/data-bd/logs-28Apr-today/blocks.csv\"\n",
    "blocks_ethereum_4 = \"./ronin-bridge/ethereum/data-get-logs/logs-28Apr-today/blocks.csv\"\n",
    "blocks_ethereum_5 = \"./ronin-bridge/ethereum/data-get-logs/logs-01Jan-28Apr-deps/blocks.csv\"\n",
    "blocks_ethereum_6 = \"./ronin-bridge/ethereum/data-get-logs/logs-01Jan-28Apr-withds/blocks.csv\"\n",
    "\n",
    "\n",
    "df_blocks_ethereum_1 = pd.read_csv(blocks_ethereum_1)\n",
    "df_blocks_ethereum_2 = pd.read_csv(blocks_ethereum_2)\n",
    "df_blocks_ethereum_3 = pd.read_csv(blocks_ethereum_3)\n",
    "df_blocks_ethereum_4 = pd.read_csv(blocks_ethereum_4)\n",
    "df_blocks_ethereum_5 = pd.read_csv(blocks_ethereum_5)\n",
    "df_blocks_ethereum_6 = pd.read_csv(blocks_ethereum_6)\n",
    "\n",
    "df_blocks_ethereum = pd.concat([df_blocks_ethereum_1, df_blocks_ethereum_2, df_blocks_ethereum_3, df_blocks_ethereum_4, df_blocks_ethereum_5, df_blocks_ethereum_6])\n",
    "\n",
    "destination_path = \"../data/ronin-bridge/blocks/ethereum.csv\"\n",
    "df_blocks_ethereum.to_csv(destination_path, index=False)"
   ]
  },
  {
   "cell_type": "markdown",
   "metadata": {},
   "source": [
    "### Nomad Bridge"
   ]
  },
  {
   "cell_type": "code",
<<<<<<< Updated upstream
   "execution_count": null,
=======
   "execution_count": 1,
>>>>>>> Stashed changes
   "metadata": {},
   "outputs": [],
   "source": [
    "import pandas as pd\n",
    "\n",
    "blocks_moonbeam_1 = \"./nomad-bridge/moonbeam/data/logs-11Jan-14Dec-deps/blocks.csv\"\n",
    "blocks_moonbeam_2 = \"./nomad-bridge/moonbeam/data/logs-11Jan-14Dec-withds/blocks.csv\"\n",
    "\n",
    "df_blocks_moonbeam_1 = pd.read_csv(blocks_moonbeam_1)\n",
    "df_blocks_moonbeam_2 = pd.read_csv(blocks_moonbeam_2)\n",
    "\n",
    "df_blocks_moonbeam = pd.concat([df_blocks_moonbeam_1, df_blocks_moonbeam_2])\n",
    "\n",
    "destination_path = \"../data/nomad-bridge/blocks/moonbeam.csv\"\n",
    "df_blocks_moonbeam.to_csv(destination_path, index=False)\n",
    "\n",
    "\n",
    "blocks_ethereum_1 = \"./nomad-bridge/ethereum/data/logs-11Jan-14Dec/blocks.csv\"\n",
    "blocks_ethereum_2 = \"./nomad-bridge/ethereum/data/logs-14Dec-today/blocks.csv\"\n",
    "\n",
    "df_blocks_ethereum_1 = pd.read_csv(blocks_ethereum_1)\n",
    "df_blocks_ethereum_2 = pd.read_csv(blocks_ethereum_2)\n",
    "\n",
    "df_blocks_ethereum = pd.concat([df_blocks_ethereum_1, df_blocks_ethereum_2])\n",
    "\n",
    "destination_path = \"../data/nomad-bridge/blocks/ethereum.csv\"\n",
    "df_blocks_ethereum.to_csv(destination_path, index=False)"
   ]
  },
  {
   "cell_type": "markdown",
   "metadata": {},
   "source": [
    "## Load Token Prices\n",
    "### Ronin Bridge"
   ]
  },
  {
   "cell_type": "code",
<<<<<<< Updated upstream
   "execution_count": null,
=======
   "execution_count": 1,
>>>>>>> Stashed changes
   "metadata": {},
   "outputs": [],
   "source": [
    "import shutil\n",
    "import os\n",
    "\n",
    "source_path = \"../token-price-data/ronin-bridge/data/\"\n",
    "destination_path = \"../data/ronin-bridge/token_prices/\"\n",
    "\n",
    "files = os.listdir(source_path)\n",
    "for file in files:\n",
    "    if file.endswith(\".csv\"):\n",
    "        shutil.copy(os.path.join(source_path, file), destination_path)"
   ]
  },
  {
   "cell_type": "code",
<<<<<<< Updated upstream
   "execution_count": null,
=======
   "execution_count": 2,
>>>>>>> Stashed changes
   "metadata": {},
   "outputs": [],
   "source": [
    "import shutil\n",
    "import os\n",
    "\n",
    "source_path = \"../token-price-data/nomad-bridge/data/\"\n",
    "destination_path = \"../data/nomad-bridge/token_prices/\"\n",
    "\n",
    "files = os.listdir(source_path)\n",
    "for file in files:\n",
    "    if file.endswith(\".csv\"):\n",
    "        shutil.copy(os.path.join(source_path, file), destination_path)"
   ]
  }
 ],
 "metadata": {
  "kernelspec": {
   "display_name": "Python 3",
   "language": "python",
   "name": "python3"
  },
  "language_info": {
   "codemirror_mode": {
    "name": "ipython",
    "version": 3
   },
   "file_extension": ".py",
   "mimetype": "text/x-python",
   "name": "python",
   "nbconvert_exporter": "python",
   "pygments_lexer": "ipython3",
   "version": "3.11.5"
  }
 },
 "nbformat": 4,
 "nbformat_minor": 2
}
