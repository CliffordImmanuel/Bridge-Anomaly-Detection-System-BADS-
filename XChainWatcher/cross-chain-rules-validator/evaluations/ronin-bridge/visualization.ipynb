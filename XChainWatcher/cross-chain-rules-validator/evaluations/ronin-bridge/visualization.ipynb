{
 "cells": [
  {
   "cell_type": "code",
   "execution_count": 182,
   "metadata": {},
   "outputs": [],
   "source": [
    "import pandas as pd\n",
    "import matplotlib.pyplot as plt\n",
    "\n",
    "# Load the CSV file into a DataFrame\n",
    "df = pd.read_csv('evaluation.csv', header=None, names=['transaction_hash', 'num_events', 'time'])"
   ]
  },
  {
   "cell_type": "code",
   "execution_count": 183,
   "metadata": {},
   "outputs": [],
   "source": [
    "# we can ignore the transactions with hundreds of events (col 2)\n",
    "df = df[df[\"num_events\"] < 100]"
   ]
  },
  {
   "cell_type": "code",
   "execution_count": 184,
   "metadata": {},
   "outputs": [
    {
     "name": "stdout",
     "output_type": "stream",
     "text": [
      "Number of rows with latency less than 1: 738883 (90.4854043158208%)\n",
      "Number of rows with latency less than 1: 77694 (9.514595684179202%)\n",
      "Max latency: 138.15209197998047\n"
     ]
    }
   ],
   "source": [
    "df_less_one_second = df[df[\"time\"] < 1]\n",
    "print(f\"Number of rows with latency less than 1: {len(df_less_one_second)} ({len(df_less_one_second)/len(df)*100}%)\")\n",
    "\n",
    "df_more_one_second = df[df[\"time\"] >= 1]\n",
    "print(f\"Number of rows with latency less than 1: {len(df_more_one_second)} ({len(df_more_one_second)/len(df)*100}%)\")\n",
    "\n",
    "max_latency = df[\"time\"].max()\n",
    "print(f\"Max latency: {max_latency}\")"
   ]
  },
  {
   "cell_type": "code",
   "execution_count": 185,
   "metadata": {},
   "outputs": [],
   "source": [
    "# Load the file \"transaction.facts\" with 9 columns\n",
    "df_transaction = pd.read_csv('../../../datalog/ronin-bridge/facts/transaction.facts', header=None, sep='\\t', names=[\"timestamp\", \"chain_id\", \"transaction_hash\", \"transaction_index\", \"from\", \"to\", \"value\", \"status\", \"fee\"], dtype={'col_6': str})\n",
    "df_additional_transaction = pd.read_csv('../../../datalog/ronin-bridge/facts/additional_transaction.facts', header=None, sep='\\t', names=[\"timestamp\", \"chain_id\", \"transaction_hash\", \"transaction_index\", \"from\", \"to\", \"value\", \"status\", \"fee\"], dtype={'col_6': str})\n",
    "\n",
    "# Append df_transaction and df_additional_transaction\n",
    "df_transaction = pd.concat([df_transaction, df_additional_transaction], ignore_index=True)\n",
    "\n",
    "df_transaction.to_csv('transaction.csv', index=False)"
   ]
  },
  {
   "cell_type": "code",
   "execution_count": 203,
   "metadata": {},
   "outputs": [],
   "source": [
    "merged_df = df.merge(df_transaction[['transaction_hash', 'value']], how=\"left\", on='transaction_hash')\n",
    "\n",
    "merged_df.fillna(0, inplace=True)"
   ]
  },
  {
   "cell_type": "code",
   "execution_count": 204,
   "metadata": {},
   "outputs": [],
   "source": [
    "merged_df['type'] = merged_df['value'].apply(lambda x: 'native' if int(x) > 0 else 'non-native')\n",
    "\n",
    "merged_df.to_csv('output.csv', index=False)"
   ]
  },
  {
   "cell_type": "code",
   "execution_count": 206,
   "metadata": {},
   "outputs": [
    {
     "name": "stdout",
     "output_type": "stream",
     "text": [
      "Number of rows with native token transfers: 468997 (57.43451015642126%)\n",
      "Number of rows with non-native token transfers: 347580 (42.565489843578746%)\n"
     ]
    }
   ],
   "source": [
    "df_native = merged_df[merged_df[\"type\"] == \"native\"]\n",
    "print(f\"Number of rows with native token transfers: {len(df_native)} ({len(df_native)/len(merged_df)*100}%)\")\n",
    "\n",
    "df_non_native = merged_df[merged_df[\"type\"] == \"non-native\"]\n",
    "print(f\"Number of rows with non-native token transfers: {len(df_non_native)} ({len(df_non_native)/len(merged_df)*100}%)\")"
   ]
  },
  {
   "cell_type": "code",
   "execution_count": 189,
   "metadata": {},
   "outputs": [
    {
     "name": "stdout",
     "output_type": "stream",
     "text": [
      "Max latency of the non-native token transfers: 3.6477088928222656\n",
      "Min latency of the non-native token transfers: 3.814697265625e-06\n",
      "Average latency of the non-native token transfers: 0.28148541492411344\n",
      "Median latency of the non-native token transfers: 0.22963547706604\n",
      "Standard deviation of the non-native token transfers: 0.25898480461929696\n"
     ]
    }
   ],
   "source": [
    "# max latency of the non-native token transfers\n",
    "max_latency_non_native = df_non_native[\"time\"].max()\n",
    "print(f\"Max latency of the non-native token transfers: {max_latency_non_native}\")\n",
    "\n",
    "# min latency of the non-native token transfers\n",
    "min_latency_non_native = df_non_native[\"time\"].min()\n",
    "print(f\"Min latency of the non-native token transfers: {min_latency_non_native}\")\n",
    "\n",
    "# average latency of the non-native token transfers\n",
    "average_latency_non_native = df_non_native[\"time\"].mean()\n",
    "print(f\"Average latency of the non-native token transfers: {average_latency_non_native}\")\n",
    "\n",
    "# median latency of the non-native token transfers\n",
    "average_latency_non_native = df_non_native[\"time\"].median()\n",
    "print(f\"Median latency of the non-native token transfers: {average_latency_non_native}\")\n",
    "\n",
    "# standard deviation of the non-native token transfers\n",
    "average_latency_non_native = df_non_native[\"time\"].std()\n",
    "print(f\"Standard deviation of the non-native token transfers: {average_latency_non_native}\")"
   ]
  },
  {
   "cell_type": "code",
   "execution_count": 190,
   "metadata": {},
   "outputs": [
    {
     "data": {
      "image/png": "[encoded data removed]",
      "text/plain": [
       "<Figure size 640x480 with 1 Axes>"
      ]
     },
     "metadata": {},
     "output_type": "display_data"
    }
   ],
   "source": [
    "# plot the latency of the non-native token transfers\n",
    "plt.hist(df_non_native[\"time\"], bins=500)\n",
    "plt.xlabel('Latency (seconds)')\n",
    "plt.ylabel('Frequency')\n",
    "#log scale in x\n",
    "plt.xscale('log')\n",
    "plt.title('Latency of non-native token transfers')\n",
    "plt.show()"
   ]
  },
  {
   "cell_type": "markdown",
   "metadata": {},
   "source": [
    "For the native tokens, we can estimate if they contained internal transactions or not"
   ]
  },
  {
   "cell_type": "code",
   "execution_count": null,
   "metadata": {},
   "outputs": [
    {
     "name": "stdout",
     "output_type": "stream",
     "text": [
      "Max latency of the internal transactions: 138.15209197998047\n",
      "Min latency of the internal transactions: 0.5939018726348877\n",
      "Average latency of the internal transactions: 10.6549403794269\n",
      "Median latency of the internal transactions: 9.318370819091797\n",
      "Standard deviation of the internal transactions: 6.582374510537901\n",
      "Number of internal transactions: 38521 (8.231739240998639%)\n"
     ]
    }
   ],
   "source": [
    "# we have an internal transaction in the additional data for the ones that are in df_native and have only 1 event\n",
    "add_internal_transactions = df_native[df_native[\"num_events\"] == 1]\n",
    "\n",
    "# max min avg median std of the internal transactions\n",
    "max_latency_internal = add_internal_transactions[\"time\"].max()\n",
    "print(f\"Max latency of the internal transactions: {max_latency_internal}\")\n",
    "\n",
    "min_latency_internal = add_internal_transactions[\"time\"].min()\n",
    "print(f\"Min latency of the internal transactions: {min_latency_internal}\")\n",
    "\n",
    "average_latency_internal = add_internal_transactions[\"time\"].mean()\n",
    "print(f\"Average latency of the internal transactions: {average_latency_internal}\")\n",
    "\n",
    "median_latency_internal = add_internal_transactions[\"time\"].median()\n",
    "print(f\"Median latency of the internal transactions: {median_latency_internal}\")\n",
    "\n",
    "std_latency_internal = add_internal_transactions[\"time\"].std()\n",
    "print(f\"Standard deviation of the internal transactions: {std_latency_internal}\")\n",
    "\n",
    "# count and percentage\n",
    "print(f\"Number of internal transactions: {len(add_internal_transactions)} ({len(add_internal_transactions)/len(df_native)*100}%)\")"
   ]
  },
  {
   "cell_type": "code",
   "execution_count": null,
   "metadata": {},
   "outputs": [
    {
     "name": "stdout",
     "output_type": "stream",
     "text": [
      "Number of internal transactions: 371732\n"
     ]
    }
   ],
   "source": [
    "# we have an internal transaction in the selected interval, for the ones that have a value in the tx but are not in the sc_deposit.facts or sc_withdraw.facts\n",
    "\n",
    "sc_deposits = pd.read_csv('../../../datalog/ronin-bridge/facts/sc_deposit.facts', header=None, sep='\\t', names=[\"transaction_hash\", \"event_index\", \"sender\", \"to\", \"amount\"])\n",
    "sc_withdrawal = pd.read_csv('../../../datalog/ronin-bridge/facts/sc_withdrawal.facts', header=None, sep='\\t', names=[\"transaction_hash\", \"event_index\", \"from\", \"beneficiary\", \"amount\"])\n",
    "\n",
    "# collect and merge the tx hashes from the sc_deposits and sc_withdrawal\n",
    "sc_deposits_tx = sc_deposits[\"transaction_hash\"].unique()\n",
    "sc_withdrawal_tx = sc_withdrawal[\"transaction_hash\"].unique()\n",
    "merged_tx_hashes = set(sc_deposits_tx).union(set(sc_withdrawal_tx))\n",
    "\n",
    "# Filter transactions that have a value and are not in sc_deposits or sc_withdrawal\n",
    "txs_with_value = df_native[\n",
    "    (df_native['num_events'] == 2) &\n",
    "    (~df_native['transaction_hash'].isin(merged_tx_hashes))\n",
    "]\n",
    "\n",
    "print(f\"Number of internal transactions: {len(txs_with_value)}\")\n"
   ]
  },
  {
   "cell_type": "code",
   "execution_count": null,
   "metadata": {},
   "outputs": [
    {
     "name": "stdout",
     "output_type": "stream",
     "text": [
      "Max latency of the transaction: 12.941407442092896\n",
      "Min latency of the transaction: 0.1838409900665283\n",
      "Average latency of the transaction: 0.39287442970869535\n",
      "Median latency of the transaction: 0.3431689739227295\n",
      "Standard deviation of the transaction: 0.3356873545137753\n",
      "Number of transactions: 371732 (79.4372132482258%)\n"
     ]
    }
   ],
   "source": [
    "# max min avg median std of the internal transactions\n",
    "max_latency_internal = txs_with_value[\"time\"].max()\n",
    "print(f\"Max latency of the transaction: {max_latency_internal}\")\n",
    "\n",
    "min_latency_internal = txs_with_value[\"time\"].min()\n",
    "print(f\"Min latency of the transaction: {min_latency_internal}\")\n",
    "\n",
    "average_latency_internal = txs_with_value[\"time\"].mean()\n",
    "print(f\"Average latency of the transaction: {average_latency_internal}\")\n",
    "\n",
    "median_latency_internal = txs_with_value[\"time\"].median()\n",
    "print(f\"Median latency of the transaction: {median_latency_internal}\")\n",
    "\n",
    "std_latency_internal = txs_with_value[\"time\"].std()\n",
    "print(f\"Standard deviation of the transaction: {std_latency_internal}\")\n",
    "\n",
    "# count and percentage\n",
    "print(f\"Number of transactions: {len(txs_with_value)} ({len(txs_with_value)/len(df_native)*100}%)\")"
   ]
  },
  {
   "cell_type": "code",
   "execution_count": 194,
   "metadata": {},
   "outputs": [
    {
     "data": {
      "image/png": "[encoded data removed]",
      "text/plain": [
       "<Figure size 640x480 with 1 Axes>"
      ]
     },
     "metadata": {},
     "output_type": "display_data"
    }
   ],
   "source": [
    "# plot the time of the internal transactions\n",
    "plt.hist(txs_with_value[\"time\"], bins=100000)\n",
    "plt.xlabel('Latency (seconds)')\n",
    "plt.ylabel('Frequency')\n",
    "plt.xscale('log')\n",
    "plt.title('Latency of get transaction')\n",
    "plt.show()"
   ]
  },
  {
   "cell_type": "code",
   "execution_count": null,
   "metadata": {},
   "outputs": [
    {
     "data": {
      "text/plain": [
       "23"
      ]
     },
     "execution_count": 195,
     "metadata": {},
     "output_type": "execute_result"
    }
   ],
   "source": [
    "internal_txs = df_native[\n",
    "    (df_native['num_events'] > 2) &\n",
    "    (~df_native['transaction_hash'].isin(merged_tx_hashes))\n",
    "]\n",
    "\n",
    "len(internal_txs)"
   ]
  },
  {
   "cell_type": "code",
   "execution_count": null,
   "metadata": {},
   "outputs": [
    {
     "name": "stdout",
     "output_type": "stream",
     "text": [
      "Max latency of internal transactions: 19.18180894851685\n",
      "Min latency of internal transactions: 1.9694130420684808\n",
      "Average latency of internal transactions: 10.74094327636387\n",
      "Median latency of internal transactions: 9.655467748641968\n",
      "Standard deviation of internal transactions: 4.508611817429039\n",
      "Number of internal transactions: 23 (0.004914981504710903%)\n"
     ]
    }
   ],
   "source": [
    "# max min avg median std of the internal transactions\n",
    "max_latency_internal = internal_txs[\"time\"].max()\n",
    "print(f\"Max latency of internal transactions: {max_latency_internal}\")\n",
    "\n",
    "min_latency_internal = internal_txs[\"time\"].min()\n",
    "print(f\"Min latency of internal transactions: {min_latency_internal}\")\n",
    "\n",
    "average_latency_internal = internal_txs[\"time\"].mean()\n",
    "print(f\"Average latency of internal transactions: {average_latency_internal}\")\n",
    "\n",
    "median_latency_internal = internal_txs[\"time\"].median()\n",
    "print(f\"Median latency of internal transactions: {median_latency_internal}\")\n",
    "\n",
    "std_latency_internal = internal_txs[\"time\"].std()\n",
    "print(f\"Standard deviation of internal transactions: {std_latency_internal}\")\n",
    "\n",
    "# count and percentage\n",
    "print(f\"Number of internal transactions: {len(internal_txs)} ({len(internal_txs)/len(df_native)*100}%)\")"
   ]
  },
  {
   "cell_type": "markdown",
   "metadata": {},
   "source": [
    "As we see, we do not have many transactions calling the \"debug_trace\" RPC method. Therefore, we are merging the data and presenting as a single dataset classified by making an external RPC request or not. Latency will be presented based on this difference."
   ]
  },
  {
   "cell_type": "code",
   "execution_count": 207,
   "metadata": {},
   "outputs": [
    {
     "name": "stdout",
     "output_type": "stream",
     "text": [
      "Number of data points: 468997\n",
      "Max latency of the transaction: 138.15209197998047\n",
      "Min latency of the transaction: 0.1808810234069824\n",
      "Average latency of the transaction: 1.8269345384780418\n",
      "Median latency of the transaction: 0.3482890129089355\n",
      "Standard deviation of the transaction: 4.698489754067609\n"
     ]
    }
   ],
   "source": [
    "datapoints = len(df_native)\n",
    "print(f\"Number of data points: {datapoints}\")\n",
    "\n",
    "max_latency = df_native[\"time\"].max()\n",
    "print(f\"Max latency of the transaction: {max_latency}\")\n",
    "\n",
    "min_latency = df_native[\"time\"].min()\n",
    "print(f\"Min latency of the transaction: {min_latency}\")\n",
    "\n",
    "average_latency = df_native[\"time\"].mean()\n",
    "print(f\"Average latency of the transaction: {average_latency}\")\n",
    "\n",
    "median_latency = df_native[\"time\"].median()\n",
    "print(f\"Median latency of the transaction: {median_latency}\")\n",
    "\n",
    "std_latency = df_native[\"time\"].std()\n",
    "print(f\"Standard deviation of the transaction: {std_latency}\")"
   ]
  },
  {
   "cell_type": "code",
   "execution_count": null,
   "metadata": {},
   "outputs": [
    {
     "data": {
      "image/png": "[encoded data removed]",
      "text/plain": [
       "<Figure size 640x480 with 1 Axes>"
      ]
     },
     "metadata": {},
     "output_type": "display_data"
    }
   ],
   "source": [
    "plt.hist(df_native[\"time\"], bins=100000)\n",
    "plt.xlabel('Latency (seconds)')\n",
    "plt.ylabel('Frequency')\n",
    "plt.xscale('log')\n",
    "plt.title('Latency')\n",
    "plt.show()"
   ]
  },
  {
   "cell_type": "code",
   "execution_count": 208,
   "metadata": {},
   "outputs": [
    {
     "data": {
      "text/plain": [
       "264.1380388888889"
      ]
     },
     "execution_count": 208,
     "metadata": {},
     "output_type": "execute_result"
    }
   ],
   "source": [
    "(1.82*468997+347580*0.28)/60/60"
   ]
  },
  {
   "cell_type": "code",
   "execution_count": 211,
   "metadata": {},
   "outputs": [
    {
     "name": "stdout",
     "output_type": "stream",
     "text": [
      "Number of rows with latency greater than 1: 66197 (14.114589219120804%)\n",
      "Number of rows with latency greater than 10: 30533 (6.510276185135512%)\n",
      "Number of rows with latency greater than 15: 15429 (3.2897865018326344%)\n"
     ]
    }
   ],
   "source": [
    "# count how many of df_native have time > 1 and the percentage\n",
    "df_native_time_gt_1 = df_native[df_native[\"time\"] > 1]\n",
    "print(f\"Number of rows with latency greater than 1: {len(df_native_time_gt_1)} ({len(df_native_time_gt_1)/len(df_native)*100}%)\")\n",
    "\n",
    "# count how many of df_native have time > 10 and the percentage\n",
    "df_native_time_gt_10 = df_native[df_native[\"time\"] > 10]\n",
    "print(f\"Number of rows with latency greater than 10: {len(df_native_time_gt_10)} ({len(df_native_time_gt_10)/len(df_native)*100}%)\")\n",
    "\n",
    "# count how many of df_native have time > 10 and the percentage\n",
    "df_native_time_gt_15 = df_native[df_native[\"time\"] > 15]\n",
    "print(f\"Number of rows with latency greater than 15: {len(df_native_time_gt_15)} ({len(df_native_time_gt_15)/len(df_native)*100}%)\")"
   ]
  }
 ],
 "metadata": {
  "kernelspec": {
   "display_name": "xchainwatcherenv",
   "language": "python",
   "name": "python3"
  },
  "language_info": {
   "codemirror_mode": {
    "name": "ipython",
    "version": 3
   },
   "file_extension": ".py",
   "mimetype": "text/x-python",
   "name": "python",
   "nbconvert_exporter": "python",
   "pygments_lexer": "ipython3",
   "version": "3.11.5"
  }
 },
 "nbformat": 4,
 "nbformat_minor": 2
}
